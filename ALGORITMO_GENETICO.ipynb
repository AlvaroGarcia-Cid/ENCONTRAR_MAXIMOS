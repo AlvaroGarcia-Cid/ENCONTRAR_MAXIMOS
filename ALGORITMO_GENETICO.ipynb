{
  "cells": [
    {
      "cell_type": "markdown",
      "source": [
        "< GRUPO 7 >\n",
        "\n",
        "PILAR ARIAS, ÁLVARO GARCÍA CID, YEDRA MARTÍN, AMAYA SARASA"
      ],
      "metadata": {
        "id": "bqM6hltHrW_7"
      },
      "id": "bqM6hltHrW_7"
    },
    {
      "cell_type": "markdown",
      "source": [
        "# INSTALAMOS LA LIBRERÍA DEAP"
      ],
      "metadata": {
        "id": "W5LzhuawrnTV"
      },
      "id": "W5LzhuawrnTV"
    },
    {
      "cell_type": "code",
      "source": [
        "!pip install deap"
      ],
      "metadata": {
        "id": "SrXm1Xi5r60l",
        "outputId": "cfda3937-8b41-40b2-aafd-498f1a54da11",
        "colab": {
          "base_uri": "https://localhost:8080/"
        }
      },
      "id": "SrXm1Xi5r60l",
      "execution_count": 1,
      "outputs": [
        {
          "output_type": "stream",
          "name": "stdout",
          "text": [
            "Looking in indexes: https://pypi.org/simple, https://us-python.pkg.dev/colab-wheels/public/simple/\n",
            "Collecting deap\n",
            "  Downloading deap-1.3.3-cp38-cp38-manylinux_2_5_x86_64.manylinux1_x86_64.manylinux_2_17_x86_64.manylinux2014_x86_64.whl (139 kB)\n",
            "\u001b[K     |████████████████████████████████| 139 kB 15.2 MB/s \n",
            "\u001b[?25hRequirement already satisfied: numpy in /usr/local/lib/python3.8/dist-packages (from deap) (1.21.6)\n",
            "Installing collected packages: deap\n",
            "Successfully installed deap-1.3.3\n"
          ]
        }
      ]
    },
    {
      "cell_type": "code",
      "source": [
        "!pip install matplotlib"
      ],
      "metadata": {
        "id": "FPUK3ZCir9wv",
        "outputId": "d911624b-6c23-47c3-c6a7-4698602ae135",
        "colab": {
          "base_uri": "https://localhost:8080/"
        }
      },
      "id": "FPUK3ZCir9wv",
      "execution_count": 2,
      "outputs": [
        {
          "output_type": "stream",
          "name": "stdout",
          "text": [
            "Looking in indexes: https://pypi.org/simple, https://us-python.pkg.dev/colab-wheels/public/simple/\n",
            "Requirement already satisfied: matplotlib in /usr/local/lib/python3.8/dist-packages (3.2.2)\n",
            "Requirement already satisfied: pyparsing!=2.0.4,!=2.1.2,!=2.1.6,>=2.0.1 in /usr/local/lib/python3.8/dist-packages (from matplotlib) (3.0.9)\n",
            "Requirement already satisfied: cycler>=0.10 in /usr/local/lib/python3.8/dist-packages (from matplotlib) (0.11.0)\n",
            "Requirement already satisfied: numpy>=1.11 in /usr/local/lib/python3.8/dist-packages (from matplotlib) (1.21.6)\n",
            "Requirement already satisfied: kiwisolver>=1.0.1 in /usr/local/lib/python3.8/dist-packages (from matplotlib) (1.4.4)\n",
            "Requirement already satisfied: python-dateutil>=2.1 in /usr/local/lib/python3.8/dist-packages (from matplotlib) (2.8.2)\n",
            "Requirement already satisfied: six>=1.5 in /usr/local/lib/python3.8/dist-packages (from python-dateutil>=2.1->matplotlib) (1.15.0)\n"
          ]
        }
      ]
    },
    {
      "cell_type": "code",
      "source": [
        "!pip install numpy"
      ],
      "metadata": {
        "id": "9Kqo6jRPr9hm",
        "outputId": "d3fb1ada-798e-454e-da50-453780573d0a",
        "colab": {
          "base_uri": "https://localhost:8080/"
        }
      },
      "id": "9Kqo6jRPr9hm",
      "execution_count": 3,
      "outputs": [
        {
          "output_type": "stream",
          "name": "stdout",
          "text": [
            "Looking in indexes: https://pypi.org/simple, https://us-python.pkg.dev/colab-wheels/public/simple/\n",
            "Requirement already satisfied: numpy in /usr/local/lib/python3.8/dist-packages (1.21.6)\n"
          ]
        }
      ]
    },
    {
      "cell_type": "code",
      "source": [
        "!pip install scipy"
      ],
      "metadata": {
        "id": "4URUag6-r9X7",
        "outputId": "1e61302d-828c-4525-85a1-b1e3efcab83e",
        "colab": {
          "base_uri": "https://localhost:8080/"
        }
      },
      "id": "4URUag6-r9X7",
      "execution_count": 4,
      "outputs": [
        {
          "output_type": "stream",
          "name": "stdout",
          "text": [
            "Looking in indexes: https://pypi.org/simple, https://us-python.pkg.dev/colab-wheels/public/simple/\n",
            "Requirement already satisfied: scipy in /usr/local/lib/python3.8/dist-packages (1.7.3)\n",
            "Requirement already satisfied: numpy<1.23.0,>=1.16.5 in /usr/local/lib/python3.8/dist-packages (from scipy) (1.21.6)\n"
          ]
        }
      ]
    },
    {
      "cell_type": "code",
      "source": [
        "!pip install scoop"
      ],
      "metadata": {
        "id": "YF4OzDEUr9Bz",
        "outputId": "855aa098-4214-4636-cc8b-caba1f7077e2",
        "colab": {
          "base_uri": "https://localhost:8080/"
        }
      },
      "id": "YF4OzDEUr9Bz",
      "execution_count": 5,
      "outputs": [
        {
          "output_type": "stream",
          "name": "stdout",
          "text": [
            "Looking in indexes: https://pypi.org/simple, https://us-python.pkg.dev/colab-wheels/public/simple/\n",
            "Collecting scoop\n",
            "  Downloading scoop-0.7.2.0.tar.gz (615 kB)\n",
            "\u001b[K     |████████████████████████████████| 615 kB 15.5 MB/s \n",
            "\u001b[?25hRequirement already satisfied: greenlet>=0.3.4 in /usr/local/lib/python3.8/dist-packages (from scoop) (2.0.1)\n",
            "Requirement already satisfied: pyzmq>=13.1.0 in /usr/local/lib/python3.8/dist-packages (from scoop) (23.2.1)\n",
            "Building wheels for collected packages: scoop\n",
            "  Building wheel for scoop (setup.py) ... \u001b[?25l\u001b[?25hdone\n",
            "  Created wheel for scoop: filename=scoop-0.7.2.0-py3-none-any.whl size=78119 sha256=300f5828dc91f16b8df0238e5d152b5c6fa640629826aba3f35bfb09829e681d\n",
            "  Stored in directory: /root/.cache/pip/wheels/06/d1/b8/b4495d80f3aa67a67b8d19a900892d4f6af3c6d1bdd3cd015c\n",
            "Successfully built scoop\n",
            "Installing collected packages: scoop\n",
            "Successfully installed scoop-0.7.2.0\n"
          ]
        }
      ]
    },
    {
      "cell_type": "code",
      "source": [
        "import random\n",
        "import math\n",
        "import numpy as np\n",
        "from deap import base\n",
        "from deap import creator\n",
        "from deap import tools\n",
        "from deap import algorithms\n",
        "import matplotlib.pyplot as plt"
      ],
      "metadata": {
        "id": "1PtCVirfsyoR"
      },
      "id": "1PtCVirfsyoR",
      "execution_count": 6,
      "outputs": []
    },
    {
      "cell_type": "code",
      "source": [
        "# Importamos la librería\n",
        "import random\n",
        "# Fijamos la semilla. Si no cambiamos la semilla, \n",
        "# la función generará los mismos número aleatorios\n",
        "random.seed(0)\n",
        "# Generamos los números pseudo-aleatorios en 2 list comprenhension\n",
        "# para encapsular todos los datos en las listas x e y\n",
        "x = [random.uniform(-100, 100) for i in range(10)]\n",
        "y = [random.uniform(-100, 100) for i in range(10)]\n",
        "print('x= ', x)\n",
        "print('y= ', y)"
      ],
      "metadata": {
        "id": "PvyIDU9Ks52C",
        "outputId": "db69b8bf-47d6-4db6-9902-6c08b76e5ea6",
        "colab": {
          "base_uri": "https://localhost:8080/"
        }
      },
      "id": "PvyIDU9Ks52C",
      "execution_count": 7,
      "outputs": [
        {
          "output_type": "stream",
          "name": "stdout",
          "text": [
            "x=  [68.88437030500961, 51.590880588060486, -15.885683833830996, -48.21664994140733, 2.254944273721705, -19.01317250991714, 56.75971780695451, -39.33745478421451, -4.680609169528836, 16.676407891006235]\n",
            "y=  [81.62257703906704, 0.9373711634780477, -43.63243112005924, 51.16084083144477, 23.67379933506632, -49.898731727511894, 81.94925119364802, 96.55709520753061, 62.04344719931791, 80.43319008791653]\n"
          ]
        }
      ]
    },
    {
      "cell_type": "code",
      "source": [
        "# Importamos las librerías necesarias\n",
        "import numpy as np\n",
        "import matplotlib.pyplot as plt\n",
        "from mpl_toolkits.mplot3d import Axes3D\n",
        "from matplotlib import cm"
      ],
      "metadata": {
        "id": "nI-rzigKtBBm"
      },
      "id": "nI-rzigKtBBm",
      "execution_count": 8,
      "outputs": []
    },
    {
      "cell_type": "markdown",
      "source": [
        "![image.png](data:image/png;base64,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)"
      ],
      "metadata": {
        "id": "ShGXnl2duPy5"
      },
      "id": "ShGXnl2duPy5"
    },
    {
      "cell_type": "markdown",
      "source": [
        "Para poder introducir correctamente esta función, se ha partido en diferentes segmentos para su correcta ejecución."
      ],
      "metadata": {
        "id": "JBR1iINZuTM0"
      },
      "id": "JBR1iINZuTM0"
    },
    {
      "cell_type": "code",
      "source": [
        "# Definimos la función objetivo\n",
        "def funcion_prueba(x):\n",
        "    # x es x[0] e y es x[1]\n",
        "    res1 = (1-x[0])**2\n",
        "    res2 = np.exp(-(x[0]**2+(x[1]+1)**2))\n",
        "    res3 = x[0]/5-x[0]**3-x[1]**5\n",
        "    res4 = np.exp(-(x[0]**2)-(x[1]**2))\n",
        "    res5 = (1/3)*np.exp(-((x[0]+1)**2)-x[1]**2)\n",
        "    res = 3* res1 * res2 - 10 * res3 * res4 - res5\n",
        "    return res"
      ],
      "metadata": {
        "id": "8HgZMZFstByz"
      },
      "id": "8HgZMZFstByz",
      "execution_count": 9,
      "outputs": []
    },
    {
      "cell_type": "markdown",
      "source": [
        "Generamos vectores para comenzar la exploración del máximo de la función."
      ],
      "metadata": {
        "id": "mSQocxnGugcU"
      },
      "id": "mSQocxnGugcU"
    },
    {
      "cell_type": "code",
      "source": [
        "# Generamos vectores que barran todo el dominio\n",
        "x = np.linspace(-5, 5, 1000)\n",
        "y = np.linspace(-5, 5, 1000)\n",
        "# print('x= ', x)\n",
        "# print('y= ', y)"
      ],
      "metadata": {
        "id": "ui2WaUNVtGAh"
      },
      "id": "ui2WaUNVtGAh",
      "execution_count": 10,
      "outputs": []
    },
    {
      "cell_type": "code",
      "source": [
        "# Evaluamos todos los valores de las variables\n",
        "x_ax, y_ax = np.meshgrid(x, y)\n",
        "vals = np.c_[x_ax.ravel(), y_ax.ravel()]\n",
        "fx = np.reshape([funcion_prueba(val) for val in vals],(1000, 1000))"
      ],
      "metadata": {
        "id": "KBByeSwCtJsI"
      },
      "id": "KBByeSwCtJsI",
      "execution_count": 11,
      "outputs": []
    },
    {
      "cell_type": "markdown",
      "source": [
        "Representamos la función para orientarnos sobre dónde estará ese máximo global que se está buscando."
      ],
      "metadata": {
        "id": "wBBCC0QBusFp"
      },
      "id": "wBBCC0QBusFp"
    },
    {
      "cell_type": "code",
      "source": [
        "# Representamos los resultados obtenidos\n",
        "figure_3d = plt.figure(figsize=(8,6))\n",
        "ax = figure_3d.gca(projection=\"3d\")\n",
        "ax.plot_surface(x_ax, y_ax, fx, cmap=cm.coolwarm)\n",
        "ax.set_xlabel(\"x\")\n",
        "ax.set_ylabel(\"y\")\n",
        "ax.set_zlabel(\"f(x,y)\")"
      ],
      "metadata": {
        "id": "Y0IIzWmBtORg",
        "outputId": "94d56223-b3cd-484d-ba98-480026f8dc97",
        "colab": {
          "base_uri": "https://localhost:8080/",
          "height": 374
        }
      },
      "id": "Y0IIzWmBtORg",
      "execution_count": 12,
      "outputs": [
        {
          "output_type": "execute_result",
          "data": {
            "text/plain": [
              "Text(0.5, 0, 'f(x,y)')"
            ]
          },
          "metadata": {},
          "execution_count": 12
        },
        {
          "output_type": "display_data",
          "data": {
            "text/plain": [
              "<Figure size 576x432 with 1 Axes>"
            ],
            "image/png": "[encoded data removed]"
          },
          "metadata": {
            "needs_background": "light"
          }
        }
      ]
    },
    {
      "cell_type": "code",
      "source": [
        "import random\n",
        "from deap import base\n",
        "from deap import creator\n",
        "from deap import tools"
      ],
      "metadata": {
        "id": "JVBpuHkbtQ6Y"
      },
      "id": "JVBpuHkbtQ6Y",
      "execution_count": 13,
      "outputs": []
    },
    {
      "cell_type": "code",
      "source": [
        "creator.create(\"FitnessMax\", base.Fitness, weights=(1.0,))"
      ],
      "metadata": {
        "id": "8WPY9O64tV3M"
      },
      "id": "8WPY9O64tV3M",
      "execution_count": 14,
      "outputs": []
    },
    {
      "cell_type": "code",
      "source": [
        "creator.create(\"Individual\", list, fitness=creator.FitnessMax)"
      ],
      "metadata": {
        "id": "VtM1wdO6tZIX"
      },
      "id": "VtM1wdO6tZIX",
      "execution_count": 15,
      "outputs": []
    },
    {
      "cell_type": "code",
      "source": [
        "toolbox = base.Toolbox()"
      ],
      "metadata": {
        "id": "_P-erIC0tbn0"
      },
      "id": "_P-erIC0tbn0",
      "execution_count": 16,
      "outputs": []
    },
    {
      "cell_type": "code",
      "source": [
        "# Generación de genes\n",
        "toolbox.register(\"attr_uniform\", random.uniform, -100, 100)"
      ],
      "metadata": {
        "id": "N0NKusuwtfOF"
      },
      "id": "N0NKusuwtfOF",
      "execution_count": 17,
      "outputs": []
    },
    {
      "cell_type": "code",
      "source": [
        "# Probamos y vemos que generamos un número leatorio entre -100 y 100 distinto cada vez\n",
        "toolbox.attr_uniform()"
      ],
      "metadata": {
        "id": "-JrwQYVjtfsP",
        "outputId": "c1da44ad-1d13-44dc-bdda-30494441bc2e",
        "colab": {
          "base_uri": "https://localhost:8080/"
        }
      },
      "id": "-JrwQYVjtfsP",
      "execution_count": 18,
      "outputs": [
        {
          "output_type": "execute_result",
          "data": {
            "text/plain": [
              "-37.970486136133474"
            ]
          },
          "metadata": {},
          "execution_count": 18
        }
      ]
    },
    {
      "cell_type": "code",
      "source": [
        "# Generación de inviduos\n",
        "toolbox.register(\"individual\", tools.initRepeat, creator.Individual,\n",
        "                 toolbox.attr_uniform, 2)"
      ],
      "metadata": {
        "id": "PKCbammrtqKZ"
      },
      "id": "PKCbammrtqKZ",
      "execution_count": 19,
      "outputs": []
    },
    {
      "cell_type": "code",
      "source": [
        "# Ejemplo de la generación de un individuo aleatorio\n",
        "individuo = toolbox.individual()\n",
        "individuo"
      ],
      "metadata": {
        "id": "UHkFZcz_tsPS",
        "outputId": "5341892d-d596-418e-e50c-e09501f4b85b",
        "colab": {
          "base_uri": "https://localhost:8080/"
        }
      },
      "id": "UHkFZcz_tsPS",
      "execution_count": 20,
      "outputs": [
        {
          "output_type": "execute_result",
          "data": {
            "text/plain": [
              "[45.96634965202574, 79.7676575935987]"
            ]
          },
          "metadata": {},
          "execution_count": 20
        }
      ]
    },
    {
      "cell_type": "code",
      "source": [
        "individuo.fitness.values"
      ],
      "metadata": {
        "id": "aZYiMp45ttBc",
        "outputId": "b7138add-0efd-40ce-cdc7-9c6765e6effa",
        "colab": {
          "base_uri": "https://localhost:8080/"
        }
      },
      "id": "aZYiMp45ttBc",
      "execution_count": 21,
      "outputs": [
        {
          "output_type": "execute_result",
          "data": {
            "text/plain": [
              "()"
            ]
          },
          "metadata": {},
          "execution_count": 21
        }
      ]
    },
    {
      "cell_type": "code",
      "source": [
        "# Generación de población\n",
        "toolbox.register(\"population\", tools.initRepeat, list,\n",
        "                 toolbox.individual, 100)"
      ],
      "metadata": {
        "id": "0ySNJ5m8tvN3"
      },
      "id": "0ySNJ5m8tvN3",
      "execution_count": 22,
      "outputs": []
    },
    {
      "cell_type": "code",
      "source": [
        "poblacion = toolbox.population()\n",
        "print(poblacion)"
      ],
      "metadata": {
        "id": "sf_heb2rtyE0",
        "outputId": "05dd7819-4a7d-4b0a-fde2-1f596aadbf8c",
        "colab": {
          "base_uri": "https://localhost:8080/"
        }
      },
      "id": "sf_heb2rtyE0",
      "execution_count": 23,
      "outputs": [
        {
          "output_type": "stream",
          "name": "stdout",
          "text": [
            "[[36.79678638308826, -5.571456909457325], [-79.85975838632683, -13.165632909243257], [22.177394688760316, 82.60221064757965], [93.32127355415176, -4.5980446894566], [73.061985554328, -47.90153792160812], [61.005565402604475, 9.739860767117861], [-97.19165996719622, 43.94093728079082], [-20.235291555146247, 64.96899542964661], [33.63064024637018, -99.77143613711435], [-1.284426706935065, 73.52055509855617], [-51.2178246225736, -34.95912745052199], [74.09424642173093, -61.78658169952189], [13.50214812413438, -52.27681427695596], [93.50805005802866, 60.63589385597402], [-10.406085712885925, -83.91083628949292], [-35.98907906549084, 1.5881285041147777], [86.56676484538136, -78.18843081377926], [10.253449218110248, 41.312281973377935], [9.488182265684756, 62.8933726582672], [8.056721394064795, 92.76770919476019], [20.63712559227659, 17.52341283508727], [-11.00219474489677, 19.257372316621257], [-23.019770805467914, 15.130202832977702], [-41.934099519448395, -62.121734289128774], [-62.654094348888975, 22.554635973721332], [31.331877797925756, -4.693801598123855], [-82.03512776088127, 51.52078439328736], [75.35407416455496, 84.67620318925611], [68.4920446280365, 79.6346242715758], [84.61648796403537, 8.119984989610884], [-21.740789953075023, 41.05667997088125], [-44.87317573757457, 62.32574170157571], [69.89719303727341, 79.00779348533504], [17.960236706231967, 89.95297464642411], [15.93900214912118, -9.887378673768964], [32.0490757244778, 99.25156787071455], [83.38824358949122, 58.66501682604485], [-83.52540236067051, 22.556621008142443], [-2.711159606166632, 26.029468082294557], [69.01551513430303, -51.39287558762875], [46.29784415816957, -76.5731413582964], [-55.9078926264343, 58.91659434211519], [-33.4927701560689, 63.18261930673191], [-79.87849595678077, -70.72830221753924], [39.53412803824776, -90.95318642687752], [14.773207357833385, 82.00320293980795], [6.839593652144799, 36.1178265124513], [-94.66064106755896, 26.999981982291658], [21.267683550843785, 15.190589606308151], [-21.75811813543463, -25.972011932962502], [96.10333012945372, -92.72159247770284], [-95.67269802899519, 92.20625604792224], [-63.005611720512334, -75.22096711511367], [-57.88469802267071, 60.14931807083619], [87.39383172891615, -95.44348486626832], [-14.876233606636575, -79.69995612516605], [-48.0160220414336, -55.83414573673653], [29.385143967064522, -29.94120652069354], [-63.93641969406243, 0.7273010419774408], [-92.12425858306152, -79.81575176220667], [97.6470297445002, -60.128841906587404], [-28.288939737679627, 46.319661245072126], [67.66531303868325, 83.69641239906628], [-66.11507878050647, 34.52811271461053], [93.30978060863663, -88.38981123470026], [35.24035685987565, 69.08491874032327], [-31.537491784283205, -49.86253214297767], [19.3582786938822, -11.53719326018421], [-65.03610310971177, -5.67491698074241], [-18.01892086848909, 13.822547904856037], [1.7200260125266311, -37.710799799958636], [-28.56966348194743, 67.5322348737958], [-49.813467035572586, 12.120043770704797], [-97.51273623413712, 48.31487548213272], [-32.81668910530789, -90.86070128631667], [-43.82336715633035, -51.97391843472921], [90.62586796555979, -29.55488769689852], [-42.42441702871999, -28.159760549250734], [89.38116713157822, 26.74957044985051], [24.215369123733453, 43.12387006029127], [-22.396552937498868, -17.116402344550536], [30.166572452669016, -99.69515562865597], [-61.53809175106484, -33.11966186749969], [-52.11680796280829, 27.479880225860057], [-24.270385935381114, 75.08467834260344], [13.63028418203838, -17.118720663271134], [-19.546584976184093, 40.36592478673509], [-16.354689341506784, 32.43917779476348], [-90.64406280864034, -10.929562056234033], [-48.15461531055545, -68.46268557553783], [5.51462603352293, -2.5468797861935855], [12.280985122885383, 51.09695345173651], [76.77503084974018, -1.0834659249426437], [-37.588350716625406, -6.621552929495294], [61.80917147207248, 75.00326629605422], [62.482986472751804, -62.3997411898344], [99.88407189106607, 26.61775198366007], [-83.30658996485414, 45.11087109226247], [97.36429604102563, -19.63663555749129], [35.703001048393645, -36.76457255573153]]\n"
          ]
        }
      ]
    },
    {
      "cell_type": "code",
      "source": [
        "poblacion[0]"
      ],
      "metadata": {
        "id": "en4be_Aft0IR",
        "outputId": "d4be35f9-ed48-43f8-f5da-5ab2a6bc8e1c",
        "colab": {
          "base_uri": "https://localhost:8080/"
        }
      },
      "id": "en4be_Aft0IR",
      "execution_count": 24,
      "outputs": [
        {
          "output_type": "execute_result",
          "data": {
            "text/plain": [
              "[36.79678638308826, -5.571456909457325]"
            ]
          },
          "metadata": {},
          "execution_count": 24
        }
      ]
    },
    {
      "cell_type": "code",
      "source": [
        "poblacion[0].fitness.values"
      ],
      "metadata": {
        "id": "PSU4pD_Zt2E4",
        "outputId": "40e2370c-3ee7-4644-9038-85e52c7d1064",
        "colab": {
          "base_uri": "https://localhost:8080/"
        }
      },
      "id": "PSU4pD_Zt2E4",
      "execution_count": 25,
      "outputs": [
        {
          "output_type": "execute_result",
          "data": {
            "text/plain": [
              "()"
            ]
          },
          "metadata": {},
          "execution_count": 25
        }
      ]
    },
    {
      "cell_type": "code",
      "source": [
        "def funcion_objetivo(x):\n",
        "    \"\"\"\n",
        "    Función objetivo de nuestro problema\n",
        "    \"\"\"\n",
        "    for i in range(len(x)):\n",
        "        if x[i] > 100 or x[i] < -100:\n",
        "            return -1,\n",
        "    res1 = (1-x[0])**2\n",
        "    res2 = np.exp(-(x[0]**2+(x[1]+1)**2))\n",
        "    res3 = x[0]/5-x[0]**3-x[1]**5\n",
        "    res4 = np.exp(-(x[0]**2)-(x[1]**2))\n",
        "    res5 = (1/3)*np.exp(-((x[0]+1)**2)-x[1]**2)\n",
        "    res = 3* res1 * res2 - 10 * res3 * res4 - res5\n",
        "    return res,\n"
      ],
      "metadata": {
        "id": "gFLhinh0t6Zl"
      },
      "id": "gFLhinh0t6Zl",
      "execution_count": 26,
      "outputs": []
    },
    {
      "cell_type": "code",
      "source": [
        "toolbox.register(\"evaluate\", funcion_objetivo)"
      ],
      "metadata": {
        "id": "6oAhyVoSt8qk"
      },
      "id": "6oAhyVoSt8qk",
      "execution_count": 27,
      "outputs": []
    },
    {
      "cell_type": "markdown",
      "source": [
        "Comprobamos el individuo generado"
      ],
      "metadata": {
        "id": "lugIckQDveBo"
      },
      "id": "lugIckQDveBo"
    },
    {
      "cell_type": "code",
      "source": [
        "individuo"
      ],
      "metadata": {
        "id": "G5H6fyWe7Z6o",
        "outputId": "4ed4db91-b00a-438b-e0bc-58ee96943ed5",
        "colab": {
          "base_uri": "https://localhost:8080/"
        }
      },
      "id": "G5H6fyWe7Z6o",
      "execution_count": 28,
      "outputs": [
        {
          "output_type": "execute_result",
          "data": {
            "text/plain": [
              "[45.96634965202574, 79.7676575935987]"
            ]
          },
          "metadata": {},
          "execution_count": 28
        }
      ]
    },
    {
      "cell_type": "markdown",
      "source": [],
      "metadata": {
        "id": "SfYPY_Upvi87"
      },
      "id": "SfYPY_Upvi87"
    },
    {
      "cell_type": "code",
      "source": [
        "funcion_objetivo(individuo)"
      ],
      "metadata": {
        "id": "_mlAR7N_t9TV",
        "outputId": "a7d3d838-295d-4cea-9aed-8d2f34b710d1",
        "colab": {
          "base_uri": "https://localhost:8080/"
        }
      },
      "id": "_mlAR7N_t9TV",
      "execution_count": 29,
      "outputs": [
        {
          "output_type": "execute_result",
          "data": {
            "text/plain": [
              "(0.0,)"
            ]
          },
          "metadata": {},
          "execution_count": 29
        }
      ]
    },
    {
      "cell_type": "code",
      "source": [
        "# Ejemplo de uso 2\n",
        "toolbox.evaluate(individuo)"
      ],
      "metadata": {
        "id": "du25lcAht_QK",
        "outputId": "140eb886-48b6-4416-f756-d14d60d19582",
        "colab": {
          "base_uri": "https://localhost:8080/"
        }
      },
      "id": "du25lcAht_QK",
      "execution_count": 30,
      "outputs": [
        {
          "output_type": "execute_result",
          "data": {
            "text/plain": [
              "(0.0,)"
            ]
          },
          "metadata": {},
          "execution_count": 30
        }
      ]
    },
    {
      "cell_type": "markdown",
      "source": [
        "## Único punto de cruce "
      ],
      "metadata": {
        "id": "c8Z-gU_fm18_"
      },
      "id": "c8Z-gU_fm18_"
    },
    {
      "cell_type": "code",
      "source": [
        "# Registro de operacion genética de cruce\n",
        "toolbox.register(\"mate\", tools.cxOnePoint)\n",
        "#toolbox.register(\"mate\", tools.cxTwoPoint)\n",
        "#toolbox.register(\"mate\", tools.cxUniform)"
      ],
      "metadata": {
        "id": "MgE-AgePuCdq"
      },
      "id": "MgE-AgePuCdq",
      "execution_count": 31,
      "outputs": []
    },
    {
      "cell_type": "code",
      "source": [
        "toolbox.register(\"mutate\", tools.mutGaussian, mu=0,\n",
        "                 sigma= 5, indpb=0.1)"
      ],
      "metadata": {
        "id": "u0kE-5mMuFmD"
      },
      "id": "u0kE-5mMuFmD",
      "execution_count": 32,
      "outputs": []
    },
    {
      "cell_type": "code",
      "source": [
        "toolbox.register(\"select\", tools.selTournament, tournsize=3)"
      ],
      "metadata": {
        "id": "C7AT0zG-uIVs"
      },
      "id": "C7AT0zG-uIVs",
      "execution_count": 33,
      "outputs": []
    },
    {
      "cell_type": "code",
      "source": [
        "def plot_evolucion(log):\n",
        "    \"\"\"\n",
        "    Representa la evolución del mejor individuo en cada generación\n",
        "    \"\"\"\n",
        "    gen = log.select(\"gen\")\n",
        "    fit_mins = log.select(\"min\")\n",
        "    fit_maxs = log.select(\"max\")\n",
        "    fit_ave = log.select(\"avg\")\n",
        "\n",
        "    fig, ax1 = plt.subplots()\n",
        "    ax1.plot(gen, fit_mins, \"b\")\n",
        "    ax1.plot(gen, fit_maxs, \"r\")\n",
        "    ax1.plot(gen, fit_ave, \"--k\")\n",
        "    ax1.fill_between(gen, fit_mins, fit_maxs,\n",
        "                     where=fit_maxs >= fit_mins, facecolor='g', alpha = 0.2)\n",
        "    ax1.set_xlabel(\"Generation\")\n",
        "    ax1.set_ylabel(\"Fitness\")\n",
        "    ax1.set_ylim([-10, 160])\n",
        "    ax1.legend([\"Min\", \"Max\", \"Avg\"], loc=\"lower center\")\n",
        "    plt.grid(True)\n",
        "    plt.savefig(\"Convergencia.eps\", dpi = 300)"
      ],
      "metadata": {
        "id": "U5qYAHjNuKbO"
      },
      "id": "U5qYAHjNuKbO",
      "execution_count": 34,
      "outputs": []
    },
    {
      "cell_type": "code",
      "source": [
        "def main():\n",
        "    random.seed(42)\n",
        "    CXPB, MUTPB, NGEN = 0.5, 0.2, 20\n",
        "    pop = toolbox.population()\n",
        "    hof = tools.HallOfFame(1)\n",
        "    stats = tools.Statistics(lambda ind: ind.fitness.values)\n",
        "    stats.register(\"avg\", np.mean)\n",
        "    stats.register(\"std\", np.std)\n",
        "    stats.register(\"min\", np.min)\n",
        "    stats.register(\"max\", np.max)\n",
        "    logbook = tools.Logbook()\n",
        "    pop, logbook = algorithms.eaSimple(pop, toolbox, cxpb=CXPB,\n",
        "                                       mutpb=MUTPB, ngen=NGEN, stats=stats,\n",
        "                                       halloffame=hof, verbose=True)\n",
        "    return hof, logbook"
      ],
      "metadata": {
        "id": "YaUHmlN4uOKh"
      },
      "id": "YaUHmlN4uOKh",
      "execution_count": 35,
      "outputs": []
    },
    {
      "cell_type": "code",
      "source": [
        "best, log = main()\n",
        "print(\"Mejor fitness: %f\" %best[0].fitness.values)\n",
        "print(\"Mejor individuo %s\" %best[0])\n",
        "plot_evolucion(log)"
      ],
      "metadata": {
        "id": "T6ZazoG5uTJg",
        "outputId": "801ebee8-9d74-428e-c53c-97cd27b1afe4",
        "colab": {
          "base_uri": "https://localhost:8080/",
          "height": 806
        }
      },
      "id": "T6ZazoG5uTJg",
      "execution_count": 36,
      "outputs": [
        {
          "output_type": "stream",
          "name": "stderr",
          "text": [
            "<ipython-input-34-a0277e2a9551>:14: MatplotlibDeprecationWarning: The parameter where must have the same size as x in fill_between(). This will become an error in future versions of Matplotlib.\n",
            "  ax1.fill_between(gen, fit_mins, fit_maxs,\n",
            "WARNING:matplotlib.backends.backend_ps:The PostScript backend does not support transparency; partially transparent artists will be rendered opaque.\n",
            "WARNING:matplotlib.backends.backend_ps:The PostScript backend does not support transparency; partially transparent artists will be rendered opaque.\n",
            "WARNING:matplotlib.backends.backend_ps:The PostScript backend does not support transparency; partially transparent artists will be rendered opaque.\n"
          ]
        },
        {
          "output_type": "stream",
          "name": "stdout",
          "text": [
            "gen\tnevals\tavg        \tstd        \tmin         \tmax        \n",
            "0  \t100   \t1.93843e-50\t1.92871e-49\t-8.19747e-63\t1.93843e-48\n",
            "1  \t49    \t-0.01      \t0.0994987  \t-1          \t1.93843e-48\n",
            "2  \t52    \t9.54873e-32\t9.50086e-31\t0           \t9.54873e-30\n",
            "3  \t64    \t2.86462e-31\t1.62889e-30\t-3.56017e-85\t9.54873e-30\n",
            "4  \t58    \t-0.000366985\t0.00365146 \t-0.0366985  \t6.5714e-21 \n",
            "5  \t54    \t1.99884e-21 \t1.53568e-20\t0           \t1.53884e-19\n",
            "6  \t50    \t1.83181e-20 \t7.80529e-20\t-1.32976e-61\t3.93195e-19\n",
            "7  \t74    \t1.70604e-11 \t1.69749e-10\t-2.91446e-52\t1.70604e-09\n",
            "8  \t51    \t1.36313e-09 \t1.33926e-08\t5.33806e-108\t1.34607e-07\n",
            "9  \t50    \t5.38428e-09 \t2.63774e-08\t5.92491e-35 \t1.34607e-07\n",
            "10 \t50    \t1.8845e-08  \t4.67068e-08\t6.5714e-21  \t1.34607e-07\n",
            "11 \t65    \t4.98379e-08 \t6.49853e-08\t1.53884e-19 \t1.3565e-07 \n",
            "12 \t52    \t1.01114e-07 \t5.80737e-08\t9.20815e-18 \t1.35972e-07\n",
            "13 \t50    \t0.0662859   \t0.653976   \t2.63794e-18 \t6.57303    \n",
            "14 \t70    \t0.176375    \t1.01234    \t8.50633e-20 \t6.57303    \n",
            "15 \t60    \t0.268031    \t1.29318    \t7.77223e-67 \t6.69177    \n",
            "16 \t61    \t1.08017     \t2.41933    \t6.51648e-33 \t6.69177    \n",
            "17 \t56    \t2.82554     \t3.27183    \t-1.47281    \t7.33506    \n",
            "18 \t60    \t5.74914     \t2.3037     \t-1.3246e-05 \t7.41306    \n",
            "19 \t63    \t6.45191     \t1.32893    \t1.82147e-22 \t7.40523    \n",
            "20 \t63    \t6.62916     \t1.19754    \t-0.219969   \t7.40523    \n",
            "Mejor fitness: 7.413065\n",
            "Mejor individuo [0.06046700210138432, 1.7919972024804398]\n"
          ]
        },
        {
          "output_type": "display_data",
          "data": {
            "text/plain": [
              "<Figure size 432x288 with 1 Axes>"
            ],
            "image/png": "[encoded data removed]"
          },
          "metadata": {
            "needs_background": "light"
          }
        }
      ]
    },
    {
      "cell_type": "markdown",
      "source": [
        "## Cruce con dos puntos"
      ],
      "metadata": {
        "id": "Qxd99VO4m7wq"
      },
      "id": "Qxd99VO4m7wq"
    },
    {
      "cell_type": "code",
      "source": [
        "# Registro de operacion genética de cruce\n",
        "#toolbox.register(\"mate\", tools.cxOnePoint)\n",
        "toolbox.register(\"mate\", tools.cxTwoPoint)\n",
        "#toolbox.register(\"mate\", tools.cxUniform)"
      ],
      "metadata": {
        "id": "UhzMa--3nGiL"
      },
      "id": "UhzMa--3nGiL",
      "execution_count": 37,
      "outputs": []
    },
    {
      "cell_type": "code",
      "source": [
        "toolbox.register(\"mutate\", tools.mutGaussian, mu=0,\n",
        "                 sigma= 5, indpb=0.1)"
      ],
      "metadata": {
        "id": "qHXehm4GnRay"
      },
      "id": "qHXehm4GnRay",
      "execution_count": 38,
      "outputs": []
    },
    {
      "cell_type": "code",
      "source": [
        "toolbox.register(\"select\", tools.selTournament, tournsize=3)"
      ],
      "metadata": {
        "id": "QaeYfRROnVQO"
      },
      "id": "QaeYfRROnVQO",
      "execution_count": 39,
      "outputs": []
    },
    {
      "cell_type": "code",
      "source": [
        "def plot_evolucion(log):\n",
        "    \"\"\"\n",
        "    Representa la evolución del mejor individuo en cada generación\n",
        "    \"\"\"\n",
        "    gen = log.select(\"gen\")\n",
        "    fit_mins = log.select(\"min\")\n",
        "    fit_maxs = log.select(\"max\")\n",
        "    fit_ave = log.select(\"avg\")\n",
        "\n",
        "    fig, ax1 = plt.subplots()\n",
        "    ax1.plot(gen, fit_mins, \"b\")\n",
        "    ax1.plot(gen, fit_maxs, \"r\")\n",
        "    ax1.plot(gen, fit_ave, \"--k\")\n",
        "    ax1.fill_between(gen, fit_mins, fit_maxs,\n",
        "                     where=fit_maxs >= fit_mins, facecolor='g', alpha = 0.2)\n",
        "    ax1.set_xlabel(\"Generation\")\n",
        "    ax1.set_ylabel(\"Fitness\")\n",
        "    ax1.set_ylim([-10, 160])\n",
        "    ax1.legend([\"Min\", \"Max\", \"Avg\"], loc=\"lower center\")\n",
        "    plt.grid(True)\n",
        "    plt.savefig(\"Convergencia.eps\", dpi = 300)"
      ],
      "metadata": {
        "id": "9RXaLl0Dn9xc"
      },
      "id": "9RXaLl0Dn9xc",
      "execution_count": 40,
      "outputs": []
    },
    {
      "cell_type": "code",
      "source": [
        "def main():\n",
        "    random.seed(42)\n",
        "    CXPB, MUTPB, NGEN = 0.5, 0.2, 20\n",
        "    pop = toolbox.population()\n",
        "    hof = tools.HallOfFame(1)\n",
        "    stats = tools.Statistics(lambda ind: ind.fitness.values)\n",
        "    stats.register(\"avg\", np.mean)\n",
        "    stats.register(\"std\", np.std)\n",
        "    stats.register(\"min\", np.min)\n",
        "    stats.register(\"max\", np.max)\n",
        "    logbook = tools.Logbook()\n",
        "    pop, logbook = algorithms.eaSimple(pop, toolbox, cxpb=CXPB,\n",
        "                                       mutpb=MUTPB, ngen=NGEN, stats=stats,\n",
        "                                       halloffame=hof, verbose=True)\n",
        "    return hof, logbook"
      ],
      "metadata": {
        "id": "jemaIA6aoD2_"
      },
      "id": "jemaIA6aoD2_",
      "execution_count": 41,
      "outputs": []
    },
    {
      "cell_type": "code",
      "source": [
        "best, log = main()\n",
        "print(\"Mejor fitness: %f\" %best[0].fitness.values)\n",
        "print(\"Mejor individuo %s\" %best[0])\n",
        "plot_evolucion(log)"
      ],
      "metadata": {
        "id": "AjQhdO8OoHNg",
        "outputId": "1a66e78b-ac52-46ef-84a1-003c34eee324",
        "colab": {
          "base_uri": "https://localhost:8080/",
          "height": 806
        }
      },
      "id": "AjQhdO8OoHNg",
      "execution_count": 42,
      "outputs": [
        {
          "output_type": "stream",
          "name": "stderr",
          "text": [
            "<ipython-input-40-a0277e2a9551>:14: MatplotlibDeprecationWarning: The parameter where must have the same size as x in fill_between(). This will become an error in future versions of Matplotlib.\n",
            "  ax1.fill_between(gen, fit_mins, fit_maxs,\n",
            "WARNING:matplotlib.backends.backend_ps:The PostScript backend does not support transparency; partially transparent artists will be rendered opaque.\n",
            "WARNING:matplotlib.backends.backend_ps:The PostScript backend does not support transparency; partially transparent artists will be rendered opaque.\n",
            "WARNING:matplotlib.backends.backend_ps:The PostScript backend does not support transparency; partially transparent artists will be rendered opaque.\n"
          ]
        },
        {
          "output_type": "stream",
          "name": "stdout",
          "text": [
            "gen\tnevals\tavg        \tstd        \tmin         \tmax        \n",
            "0  \t100   \t1.93843e-50\t1.92871e-49\t-8.19747e-63\t1.93843e-48\n",
            "1  \t55    \t9.69215e-50\t4.2247e-49 \t-5.6445e-140\t1.93843e-48\n",
            "2  \t54    \t-2.77757e-10\t2.76365e-09\t-2.77757e-08\t9.62191e-38\n",
            "3  \t54    \t1.39112e-25 \t1.38414e-24\t0           \t1.39112e-23\n",
            "4  \t43    \t-2.77757e-10\t2.76365e-09\t-2.77757e-08\t1.39112e-23\n",
            "5  \t61    \t9.2011e-15  \t6.63727e-14\t0           \t5.84792e-13\n",
            "6  \t64    \t-8.5687e-05 \t0.000852575\t-0.0085687  \t5.84792e-13\n",
            "7  \t61    \t0.00101441  \t0.0100932  \t4.41527e-65 \t0.101441   \n",
            "8  \t51    \t0.0653251   \t0.617144   \t-6.94448e-08\t6.20338    \n",
            "9  \t55    \t0.197282    \t1.05693    \t-6.23852e-14\t6.20338    \n",
            "10 \t58    \t0.617602    \t1.87859    \t-2.43588    \t6.20338    \n",
            "11 \t59    \t1.79351     \t2.75949    \t-9.91273e-17\t6.20338    \n",
            "12 \t52    \t4.34659     \t2.78739    \t-0.491237   \t6.20338    \n",
            "13 \t66    \t5.90065     \t1.27026    \t9.62e-33    \t6.20338    \n",
            "14 \t60    \t5.84401     \t1.62766    \t-4.9379     \t6.20338    \n",
            "15 \t65    \t5.86283     \t1.56723    \t-4.88031    \t6.20338    \n",
            "16 \t61    \t5.77535     \t1.79677    \t-6.35773    \t6.20338    \n",
            "17 \t70    \t6.20338     \t1.77636e-15\t6.20338     \t6.20338    \n",
            "18 \t59    \t5.96391     \t1.17557    \t-0.000153669\t6.20338    \n",
            "19 \t56    \t5.98988     \t1.0765     \t6.85437e-25 \t6.20338    \n",
            "20 \t61    \t5.8461      \t1.38283    \t4.75508e-82 \t6.20338    \n",
            "Mejor fitness: 6.203384\n",
            "Mejor individuo [0.11722261005967027, 1.9495037203322996]\n"
          ]
        },
        {
          "output_type": "display_data",
          "data": {
            "text/plain": [
              "<Figure size 432x288 with 1 Axes>"
            ],
            "image/png": "[encoded data removed]"
          },
          "metadata": {
            "needs_background": "light"
          }
        }
      ]
    },
    {
      "cell_type": "markdown",
      "source": [
        "## Cruce uniforme"
      ],
      "metadata": {
        "id": "ngZpeoptnAsX"
      },
      "id": "ngZpeoptnAsX"
    },
    {
      "cell_type": "markdown",
      "source": [
        "Ahora probaremos lo mismo que antes, pero con un cruce uniforme. Los atributos se intercamnain según la probabilidad indpb, que en este caso, le hemos dado el valor de 0.4"
      ],
      "metadata": {
        "id": "6rRh0dK7tTfG"
      },
      "id": "6rRh0dK7tTfG"
    },
    {
      "cell_type": "code",
      "source": [
        "toolbox.register(\"mate\", tools.cxUniform, indpb=0.4)"
      ],
      "metadata": {
        "id": "ZmGBhvNlnKib"
      },
      "id": "ZmGBhvNlnKib",
      "execution_count": 52,
      "outputs": []
    },
    {
      "cell_type": "code",
      "source": [
        "toolbox.register(\"mutate\", tools.mutGaussian, mu=0,\n",
        "                 sigma= 5, indpb=0.1)"
      ],
      "metadata": {
        "id": "GL2wWicEnR-m"
      },
      "id": "GL2wWicEnR-m",
      "execution_count": 44,
      "outputs": []
    },
    {
      "cell_type": "code",
      "source": [
        "toolbox.register(\"select\", tools.selTournament, tournsize=3)"
      ],
      "metadata": {
        "id": "SGO4E_fInVwC"
      },
      "id": "SGO4E_fInVwC",
      "execution_count": 45,
      "outputs": []
    },
    {
      "cell_type": "code",
      "source": [
        "def plot_evolucion(log):\n",
        "    \"\"\"\n",
        "    Representa la evolución del mejor individuo en cada generación\n",
        "    \"\"\"\n",
        "    gen = log.select(\"gen\")\n",
        "    fit_mins = log.select(\"min\")\n",
        "    fit_maxs = log.select(\"max\")\n",
        "    fit_ave = log.select(\"avg\")\n",
        "\n",
        "    fig, ax1 = plt.subplots()\n",
        "    ax1.plot(gen, fit_mins, \"b\")\n",
        "    ax1.plot(gen, fit_maxs, \"r\")\n",
        "    ax1.plot(gen, fit_ave, \"--k\")\n",
        "    ax1.fill_between(gen, fit_mins, fit_maxs,\n",
        "                     where=fit_maxs >= fit_mins, facecolor='g', alpha = 0.2)\n",
        "    ax1.set_xlabel(\"Generation\")\n",
        "    ax1.set_ylabel(\"Fitness\")\n",
        "    ax1.set_ylim([-10, 160])\n",
        "    ax1.legend([\"Min\", \"Max\", \"Avg\"], loc=\"lower center\")\n",
        "    plt.grid(True)\n",
        "    plt.savefig(\"Convergencia.eps\", dpi = 300)"
      ],
      "metadata": {
        "id": "tGXESCqzr2EC"
      },
      "id": "tGXESCqzr2EC",
      "execution_count": 48,
      "outputs": []
    },
    {
      "cell_type": "code",
      "source": [
        "def main():\n",
        "    random.seed(42)\n",
        "    CXPB, MUTPB, NGEN = 0.5, 0.2, 20\n",
        "    pop = toolbox.population()\n",
        "    hof = tools.HallOfFame(1)\n",
        "    stats = tools.Statistics(lambda ind: ind.fitness.values)\n",
        "    stats.register(\"avg\", np.mean)\n",
        "    stats.register(\"std\", np.std)\n",
        "    stats.register(\"min\", np.min)\n",
        "    stats.register(\"max\", np.max)\n",
        "    logbook = tools.Logbook()\n",
        "    pop, logbook = algorithms.eaSimple(pop, toolbox, cxpb=CXPB,\n",
        "                                       mutpb=MUTPB, ngen=NGEN, stats=stats,\n",
        "                                       halloffame=hof, verbose=True)\n",
        "    return hof, logbook"
      ],
      "metadata": {
        "id": "7cWjx6rioEh_"
      },
      "id": "7cWjx6rioEh_",
      "execution_count": 46,
      "outputs": []
    },
    {
      "cell_type": "code",
      "source": [
        "best, log = main()\n",
        "print(\"Mejor fitness: %f\" %best[0].fitness.values)\n",
        "print(\"Mejor individuo %s\" %best[0])\n",
        "plot_evolucion(log)"
      ],
      "metadata": {
        "id": "TA7FTBvJoH2m",
        "outputId": "9a7502cd-b771-422d-a963-b59cc9abb858",
        "colab": {
          "base_uri": "https://localhost:8080/",
          "height": 806
        }
      },
      "id": "TA7FTBvJoH2m",
      "execution_count": 53,
      "outputs": [
        {
          "output_type": "stream",
          "name": "stderr",
          "text": [
            "<ipython-input-48-a0277e2a9551>:14: MatplotlibDeprecationWarning: The parameter where must have the same size as x in fill_between(). This will become an error in future versions of Matplotlib.\n",
            "  ax1.fill_between(gen, fit_mins, fit_maxs,\n",
            "WARNING:matplotlib.backends.backend_ps:The PostScript backend does not support transparency; partially transparent artists will be rendered opaque.\n",
            "WARNING:matplotlib.backends.backend_ps:The PostScript backend does not support transparency; partially transparent artists will be rendered opaque.\n",
            "WARNING:matplotlib.backends.backend_ps:The PostScript backend does not support transparency; partially transparent artists will be rendered opaque.\n"
          ]
        },
        {
          "output_type": "stream",
          "name": "stdout",
          "text": [
            "gen\tnevals\tavg        \tstd        \tmin         \tmax        \n",
            "0  \t100   \t1.93843e-50\t1.92871e-49\t-8.19747e-63\t1.93843e-48\n",
            "1  \t48    \t1.16306e-49\t4.60351e-49\t0           \t1.93843e-48\n",
            "2  \t58    \t9.62191e-40\t9.57368e-39\t0           \t9.62191e-38\n",
            "3  \t57    \t-5.55514e-10\t3.8886e-09 \t-2.77757e-08\t1.39112e-23\n",
            "4  \t57    \t2.79554e-25 \t1.94742e-24\t-6.09907e-315\t1.39112e-23\n",
            "5  \t53    \t1.30985e-21 \t1.30258e-20\t5.60587e-55  \t1.30915e-19\n",
            "6  \t66    \t1.11778e-14 \t7.83305e-14\t1.93843e-48  \t5.84792e-13\n",
            "7  \t58    \t4.11695e-12 \t4.03913e-11\t-1.87111e-79 \t4.06002e-10\n",
            "8  \t61    \t4.25384e-12 \t4.03781e-11\t-2.42373e-67 \t4.06002e-10\n",
            "9  \t60    \t0.000149047 \t0.00144547 \t3.45627e-29  \t0.0145264  \n",
            "10 \t59    \t-0.0581074  \t0.579672   \t-5.82576     \t0.0145264  \n",
            "11 \t63    \t0.000155236 \t0.00144539 \t-1.74298e-07 \t0.0145264  \n",
            "12 \t60    \t0.000594758 \t0.00285441 \t5.90313e-47  \t0.0147269  \n",
            "13 \t59    \t0.0453987   \t0.437585   \t-1.74298e-07 \t4.39911    \n",
            "14 \t55    \t0.153505    \t0.977698   \t-4.34561     \t4.39911    \n",
            "15 \t67    \t0.348269    \t1.07662    \t-0.0008248   \t4.46142    \n",
            "16 \t49    \t1.1257      \t1.80196    \t0.000383496  \t4.46142    \n",
            "17 \t67    \t2.71081     \t1.98722    \t6.49659e-24  \t4.46142    \n",
            "18 \t66    \t4.05311     \t1.21271    \t-1.11241     \t4.46142    \n",
            "19 \t68    \t4.40307     \t0.443275   \t-3.86798e-06 \t4.46142    \n",
            "20 \t71    \t4.25309     \t0.904372   \t1.3905e-84   \t4.46142    \n",
            "Mejor fitness: 4.461419\n",
            "Mejor individuo [0.008188691464088543, 2.1558622101797638]\n"
          ]
        },
        {
          "output_type": "display_data",
          "data": {
            "text/plain": [
              "<Figure size 432x288 with 1 Axes>"
            ],
            "image/png": "[encoded data removed]"
          },
          "metadata": {
            "needs_background": "light"
          }
        }
      ]
    }
  ],
  "metadata": {
    "kernelspec": {
      "display_name": "Python 3 (ipykernel)",
      "language": "python",
      "name": "python3"
    },
    "language_info": {
      "codemirror_mode": {
        "name": "ipython",
        "version": 3
      },
      "file_extension": ".py",
      "mimetype": "text/x-python",
      "name": "python",
      "nbconvert_exporter": "python",
      "pygments_lexer": "ipython3",
      "version": "3.8.8"
    },
    "colab": {
      "provenance": []
    },
    "accelerator": "GPU",
    "gpuClass": "standard"
  },
  "nbformat": 4,
  "nbformat_minor": 5
}